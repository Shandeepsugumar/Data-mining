{
  "nbformat": 4,
  "nbformat_minor": 0,
  "metadata": {
    "colab": {
      "provenance": [],
      "mount_file_id": "1cIfSbohwgCKW9cRvZXcZZ659-Szces4u",
      "authorship_tag": "ABX9TyMXzwtkBYPrxjzRxtiD/8Kd",
      "include_colab_link": true
    },
    "kernelspec": {
      "name": "python3",
      "display_name": "Python 3"
    },
    "language_info": {
      "name": "python"
    }
  },
  "cells": [
    {
      "cell_type": "markdown",
      "metadata": {
        "id": "view-in-github",
        "colab_type": "text"
      },
      "source": [
        "<a href=\"https://colab.research.google.com/github/Shandeepsugumar/Data-mining/blob/main/Fictional_Character_Battle_Outcome_Prediction.ipynb\" target=\"_parent\"><img src=\"https://colab.research.google.com/assets/colab-badge.svg\" alt=\"Open In Colab\"/></a>"
      ]
    },
    {
      "cell_type": "code",
      "execution_count": null,
      "metadata": {
        "id": "X3GW_8xXyp8F"
      },
      "outputs": [],
      "source": [
        "\n",
        "import numpy as np\n",
        "import pandas as pd"
      ]
    },
    {
      "cell_type": "code",
      "source": [
        "file_path='/content/drive/MyDrive/dm/DM.csv'\n",
        "df=pd.read_csv(file_path)\n",
        "print(df)"
      ],
      "metadata": {
        "colab": {
          "base_uri": "https://localhost:8080/"
        },
        "id": "lC5X8uoW0ztu",
        "outputId": "a3f188fa-8525-4b04-cf3f-530a7d3f5abc"
      },
      "execution_count": null,
      "outputs": [
        {
          "output_type": "stream",
          "name": "stdout",
          "text": [
            "          Character   Universe  Strength  Speed  Intelligence  \\\n",
            "0      Wonder Woman     Marvel       7.0    8.0             3   \n",
            "1          Iron Man     Marvel       4.0    7.0             9   \n",
            "2          Iron Man  DC Comics       8.0    7.0             5   \n",
            "3        Spider-Man  DC Comics       5.0    6.0            10   \n",
            "4             Flash     Marvel       7.0    6.0             2   \n",
            "..              ...        ...       ...    ...           ...   \n",
            "94       Spider-Man  DC Comics       7.0    7.0             5   \n",
            "95     Wonder Woman  DC Comics      10.0    4.0             1   \n",
            "96     Wonder Woman  DC Comics       9.0    4.0             6   \n",
            "97             Thor     Marvel       7.0    8.0             6   \n",
            "98  Captain America     Marvel       9.0    8.0             3   \n",
            "\n",
            "   SpecialAbilities    Weaknesses  BattleOutcome  \n",
            "0       Telekinesis    Kryptonite            0.0  \n",
            "1       Telekinesis    Kryptonite            0.0  \n",
            "2       Telekinesis         Magic            0.0  \n",
            "3       Telekinesis    Kryptonite            0.0  \n",
            "4      Invisibility         Magic            0.0  \n",
            "..              ...           ...            ...  \n",
            "94   Super Strength  Wooden Stake            1.0  \n",
            "95      Telekinesis         Magic            0.0  \n",
            "96      Telekinesis  Wooden Stake            0.0  \n",
            "97      Telekinesis        Silver            1.0  \n",
            "98           Flight    Kryptonite            0.0  \n",
            "\n",
            "[99 rows x 8 columns]\n"
          ]
        }
      ]
    },
    {
      "cell_type": "code",
      "source": [
        "df.isnull().sum()"
      ],
      "metadata": {
        "colab": {
          "base_uri": "https://localhost:8080/"
        },
        "id": "2OLDwbIn29RX",
        "outputId": "a85f898d-d43e-454f-c937-0ccbe0b33d40"
      },
      "execution_count": null,
      "outputs": [
        {
          "output_type": "execute_result",
          "data": {
            "text/plain": [
              "Character           3\n",
              "Universe            1\n",
              "Strength            1\n",
              "Speed               1\n",
              "Intelligence        0\n",
              "SpecialAbilities    1\n",
              "Weaknesses          1\n",
              "BattleOutcome       2\n",
              "dtype: int64"
            ]
          },
          "metadata": {},
          "execution_count": 3
        }
      ]
    },
    {
      "cell_type": "code",
      "source": [
        "df.duplicated().sum()"
      ],
      "metadata": {
        "colab": {
          "base_uri": "https://localhost:8080/"
        },
        "id": "hL7oOLhy04zI",
        "outputId": "169f4a0e-b921-485d-8704-795ea5afb93b"
      },
      "execution_count": null,
      "outputs": [
        {
          "output_type": "execute_result",
          "data": {
            "text/plain": [
              "0"
            ]
          },
          "metadata": {},
          "execution_count": 7
        }
      ]
    },
    {
      "cell_type": "code",
      "source": [
        "df.drop_duplicates(inplace=True)"
      ],
      "metadata": {
        "id": "2G7VjdYm7YpI"
      },
      "execution_count": null,
      "outputs": []
    },
    {
      "cell_type": "code",
      "source": [
        "df1 = df['Intelligence']\n",
        "a = df1.sort_values(ascending=0)\n",
        "len1 = df1.index.size\n",
        "len2 = len1//4\n",
        "import numpy as np\n",
        "arr = list(np.array(df1.head(len1)))\n",
        "arr.sort()\n",
        "print(arr)"
      ],
      "metadata": {
        "colab": {
          "base_uri": "https://localhost:8080/"
        },
        "id": "oJXbPgbn79dJ",
        "outputId": "cea0fa2b-17be-4add-fc83-ec64b93e9d9c"
      },
      "execution_count": 9,
      "outputs": [
        {
          "output_type": "stream",
          "name": "stdout",
          "text": [
            "[1, 1, 1, 1, 1, 1, 1, 1, 1, 1, 2, 2, 2, 2, 2, 2, 2, 3, 3, 3, 3, 3, 3, 4, 4, 4, 4, 4, 4, 4, 4, 4, 5, 5, 5, 5, 5, 5, 5, 5, 5, 5, 5, 5, 5, 6, 6, 6, 6, 6, 6, 6, 6, 6, 6, 6, 7, 7, 7, 7, 7, 7, 7, 7, 7, 7, 7, 7, 8, 8, 8, 8, 8, 8, 8, 8, 8, 9, 9, 9, 9, 9, 9, 9, 9, 9, 9, 10, 10, 10, 10, 10, 10, 10, 10, 10, 10, 10, 10]\n"
          ]
        }
      ]
    },
    {
      "cell_type": "code",
      "source": [
        "print('The Array of Intelligence is ',arr,\"\\n\")\n",
        "bin_1 = np.array(arr[:len2])\n",
        "len3 = len2 + len2\n",
        "bin_2 = np.array(arr[len2:len3])\n",
        "len4 = len3 + len2\n",
        "bin_3 = np.array(arr[len3:len4])\n",
        "bin_4 = np.array(arr[len4:])\n",
        "mh1 = bin_1[0]\n",
        "mh2 = bin_2[0]\n",
        "mh3 = bin_3[0]\n",
        "mh4 = bin_4[0]\n",
        "print(\"The Actual Bins that are fabricated:\\n\")\n",
        "print(bin_1)\n",
        "print(bin_2)\n",
        "print(bin_3)\n",
        "print(bin_4)\n",
        "bin1 = bin_1\n",
        "bin2 = bin_2\n",
        "bin3 = bin_3\n",
        "bin4 = bin_4\n",
        "m1 = np.mean(bin1)\n",
        "m2 = np.mean(bin2)\n",
        "m3 = np.mean(bin3)\n",
        "m4 = np.mean(bin4)\n",
        "for i in range(len(bin1)):\n",
        "  bin1[i] = m1\n",
        "for i in range(len(bin2)):\n",
        "  bin2[i] = m2\n",
        "for i in range(len(bin3)):\n",
        "  bin3[i] = m3\n",
        "for i in range(len(bin4)):\n",
        "  bin4[i] = m4\n",
        "print('\\nBinning by Mean Method:\\n')\n",
        "print(bin1)\n",
        "print(bin2)\n",
        "print(bin3)\n",
        "print(bin4)\n",
        "bin1 = bin_1\n",
        "bin2 = bin_2\n",
        "bin3 = bin_3\n",
        "bin4 = bin_4\n",
        "md1 = np.median(bin1)\n",
        "md2 = np.median(bin2)\n",
        "md3 = np.median(bin3)\n",
        "md4 = np.median(bin4)\n",
        "for i in range(len(bin1)):\n",
        "  bin1[i] = md1\n",
        "for i in range(len(bin2)):\n",
        "  bin2[i] = md2\n",
        "for i in range(len(bin3)):\n",
        "  bin3[i] = md3\n",
        "for i in range(len(bin4)):\n",
        "  bin4[i] = md4\n",
        "\n",
        "print('\\nBinning by Median Method:\\n')\n",
        "print(bin1)\n",
        "print(bin2)\n",
        "print(bin3)\n",
        "print(bin4)\n",
        "\n",
        "\n",
        "for i in range(len(bin1)-1):\n",
        "  bin_1[i] = mh1\n",
        "for i in range(len(bin2)-1):\n",
        "  bin_2[i] = mh2\n",
        "for i in range(len(bin3)-1):\n",
        "  bin_3[i] = mh3\n",
        "for i in range(len(bin4)-1):\n",
        "  bin_4[i] = mh4\n",
        "print('\\nBinning by Boundaries Method:\\n')\n",
        "print(bin_1)\n",
        "print(bin_2)\n",
        "print(bin_3)\n",
        "print(bin_4)"
      ],
      "metadata": {
        "colab": {
          "base_uri": "https://localhost:8080/"
        },
        "id": "iuUrLwZL79ei",
        "outputId": "59baa0d5-9734-4982-d8a2-9d785ce8fff6"
      },
      "execution_count": 10,
      "outputs": [
        {
          "output_type": "stream",
          "name": "stdout",
          "text": [
            "The Array of Intelligence is  [1, 1, 1, 1, 1, 1, 1, 1, 1, 1, 2, 2, 2, 2, 2, 2, 2, 3, 3, 3, 3, 3, 3, 4, 4, 4, 4, 4, 4, 4, 4, 4, 5, 5, 5, 5, 5, 5, 5, 5, 5, 5, 5, 5, 5, 6, 6, 6, 6, 6, 6, 6, 6, 6, 6, 6, 7, 7, 7, 7, 7, 7, 7, 7, 7, 7, 7, 7, 8, 8, 8, 8, 8, 8, 8, 8, 8, 9, 9, 9, 9, 9, 9, 9, 9, 9, 9, 10, 10, 10, 10, 10, 10, 10, 10, 10, 10, 10, 10] \n",
            "\n",
            "The Actual Bins that are fabricated:\n",
            "\n",
            "[1 1 1 1 1 1 1 1 1 1 2 2 2 2 2 2 2 3 3 3 3 3 3 4]\n",
            "[4 4 4 4 4 4 4 4 5 5 5 5 5 5 5 5 5 5 5 5 5 6 6 6]\n",
            "[6 6 6 6 6 6 6 6 7 7 7 7 7 7 7 7 7 7 7 7 8 8 8 8]\n",
            "[ 8  8  8  8  8  9  9  9  9  9  9  9  9  9  9 10 10 10 10 10 10 10 10 10\n",
            " 10 10 10]\n",
            "\n",
            "Binning by Mean Method:\n",
            "\n",
            "[1 1 1 1 1 1 1 1 1 1 1 1 1 1 1 1 1 1 1 1 1 1 1 1]\n",
            "[4 4 4 4 4 4 4 4 4 4 4 4 4 4 4 4 4 4 4 4 4 4 4 4]\n",
            "[6 6 6 6 6 6 6 6 6 6 6 6 6 6 6 6 6 6 6 6 6 6 6 6]\n",
            "[9 9 9 9 9 9 9 9 9 9 9 9 9 9 9 9 9 9 9 9 9 9 9 9 9 9 9]\n",
            "\n",
            "Binning by Median Method:\n",
            "\n",
            "[1 1 1 1 1 1 1 1 1 1 1 1 1 1 1 1 1 1 1 1 1 1 1 1]\n",
            "[4 4 4 4 4 4 4 4 4 4 4 4 4 4 4 4 4 4 4 4 4 4 4 4]\n",
            "[6 6 6 6 6 6 6 6 6 6 6 6 6 6 6 6 6 6 6 6 6 6 6 6]\n",
            "[9 9 9 9 9 9 9 9 9 9 9 9 9 9 9 9 9 9 9 9 9 9 9 9 9 9 9]\n",
            "\n",
            "Binning by Boundaries Method:\n",
            "\n",
            "[1 1 1 1 1 1 1 1 1 1 1 1 1 1 1 1 1 1 1 1 1 1 1 1]\n",
            "[4 4 4 4 4 4 4 4 4 4 4 4 4 4 4 4 4 4 4 4 4 4 4 4]\n",
            "[6 6 6 6 6 6 6 6 6 6 6 6 6 6 6 6 6 6 6 6 6 6 6 6]\n",
            "[8 8 8 8 8 8 8 8 8 8 8 8 8 8 8 8 8 8 8 8 8 8 8 8 8 8 9]\n"
          ]
        }
      ]
    },
    {
      "cell_type": "code",
      "source": [],
      "metadata": {
        "id": "hHoVrAK779fS"
      },
      "execution_count": null,
      "outputs": []
    }
  ]
}